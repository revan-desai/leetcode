{
  "nbformat": 4,
  "nbformat_minor": 0,
  "metadata": {
    "colab": {
      "provenance": [],
      "authorship_tag": "ABX9TyN58Qw1V5KQ2B7zPNe2DOjV",
      "include_colab_link": true
    },
    "kernelspec": {
      "name": "python3",
      "display_name": "Python 3"
    },
    "language_info": {
      "name": "python"
    }
  },
  "cells": [
    {
      "cell_type": "markdown",
      "metadata": {
        "id": "view-in-github",
        "colab_type": "text"
      },
      "source": [
        "<a href=\"https://colab.research.google.com/github/revan-desai/leetcode/blob/main/number_palindrome.ipynb\" target=\"_parent\"><img src=\"https://colab.research.google.com/assets/colab-badge.svg\" alt=\"Open In Colab\"/></a>"
      ]
    },
    {
      "cell_type": "code",
      "execution_count": null,
      "metadata": {
        "id": "Gmr1OLqORlPW"
      },
      "outputs": [],
      "source": [
        "class Solution:\n",
        "    def Palindrome(self, x):#123\n",
        "      rev=0\n",
        "      y=x\n",
        "      while(x>0):\n",
        "          n=x%10\n",
        "          rev=rev*10+n\n",
        "          x=x//10\n",
        "\n",
        "      if y==rev:\n",
        "\n",
        "          return True\n",
        "      else:\n",
        "          return False\n",
        "\n",
        "print(Solution.Palindrome(\"k\",121))\n",
        "\n",
        "print(Solution.Palindrome(\"k\",-121))\n",
        "\n",
        "print(Solution.Palindrome(\"k\",10))"
      ]
    }
  ]
}