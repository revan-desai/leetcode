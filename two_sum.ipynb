{
  "nbformat": 4,
  "nbformat_minor": 0,
  "metadata": {
    "colab": {
      "provenance": [],
      "authorship_tag": "ABX9TyMRgJ1HL6GEvldK1Q4QUkGT",
      "include_colab_link": true
    },
    "kernelspec": {
      "name": "python3",
      "display_name": "Python 3"
    },
    "language_info": {
      "name": "python"
    }
  },
  "cells": [
    {
      "cell_type": "markdown",
      "metadata": {
        "id": "view-in-github",
        "colab_type": "text"
      },
      "source": [
        "<a href=\"https://colab.research.google.com/github/revan-desai/leetcode/blob/main/two_sum.ipynb\" target=\"_parent\"><img src=\"https://colab.research.google.com/assets/colab-badge.svg\" alt=\"Open In Colab\"/></a>"
      ]
    },
    {
      "cell_type": "code",
      "source": [
        "class Solution:\n",
        " def twoSum( nums, target):\n",
        "  for i in range(len(nums)):\n",
        "    x=nums[i]\n",
        "    for j in range(i+1,len(nums)):\n",
        "             if x+nums[j]==target:\n",
        "              return i,j\n",
        "  return []\n",
        "\n",
        "\n",
        "\n",
        "list=[2,8,11,7,55]\n",
        "Solution.twoSum(list,16)\n",
        "Solution.twoSum(list,15)\n"
      ],
      "metadata": {
        "colab": {
          "base_uri": "https://localhost:8080/"
        },
        "id": "mZ5suQbj4-K9",
        "outputId": "2048fe9c-f89e-4845-a9b5-6961d263d591"
      },
      "execution_count": 7,
      "outputs": [
        {
          "output_type": "execute_result",
          "data": {
            "text/plain": [
              "(1, 3)"
            ]
          },
          "metadata": {},
          "execution_count": 7
        }
      ]
    },
    {
      "cell_type": "code",
      "source": [
        "class Solution:\n",
        "    def twoSum(self,nums, target):\n",
        "\n",
        "        for i in range(len(nums)):\n",
        "            x=nums[i]\n",
        "            for j in range(i+1,len(nums)):\n",
        "                 if x+nums[j]==target:\n",
        "                  return[i,j]\n",
        "\n",
        "        return []  # No solution found\n",
        "list1=[2,7,11,5,55]\n",
        "list2=[3,2,4]\n",
        "list3=[3,3]\n",
        "print(Solution.twoSum(\"k\",list1,14))\n",
        "print(Solution.twoSum(\"l\",list2,6))\n",
        "\n",
        "print(Solution.twoSum(\"m\",list3,6))\n",
        "\n"
      ],
      "metadata": {
        "colab": {
          "base_uri": "https://localhost:8080/"
        },
        "id": "w_anXlcK_CUh",
        "outputId": "6a72f3e7-d581-420f-f7fb-8ce8c67dd0d8"
      },
      "execution_count": 3,
      "outputs": [
        {
          "output_type": "stream",
          "name": "stdout",
          "text": [
            "[]\n",
            "[1, 2]\n",
            "[0, 1]\n"
          ]
        }
      ]
    }
  ]
}