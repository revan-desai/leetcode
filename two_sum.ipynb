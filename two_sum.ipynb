{
  "nbformat": 4,
  "nbformat_minor": 0,
  "metadata": {
    "colab": {
      "provenance": [],
      "authorship_tag": "ABX9TyOLFqCW9W4TUkrnw2EQOJQ6",
      "include_colab_link": true
    },
    "kernelspec": {
      "name": "python3",
      "display_name": "Python 3"
    },
    "language_info": {
      "name": "python"
    }
  },
  "cells": [
    {
      "cell_type": "markdown",
      "metadata": {
        "id": "view-in-github",
        "colab_type": "text"
      },
      "source": [
        "<a href=\"https://colab.research.google.com/github/revan-desai/leetcode/blob/main/two_sum.ipynb\" target=\"_parent\"><img src=\"https://colab.research.google.com/assets/colab-badge.svg\" alt=\"Open In Colab\"/></a>"
      ]
    },
    {
      "cell_type": "code",
      "execution_count": null,
      "metadata": {
        "colab": {
          "base_uri": "https://localhost:8080/"
        },
        "id": "rc1W82XIcvGl",
        "outputId": "b6197c63-0eb1-45cf-d6c2-b8aff4d7f808"
      },
      "outputs": [
        {
          "output_type": "stream",
          "name": "stdout",
          "text": [
            "   0\n",
            "0  1\n",
            "1  3\n",
            "2  9\n",
            "3  7\n",
            "<class 'pandas.core.frame.DataFrame'>\n",
            "x    1\n",
            "y    3\n",
            "z    9\n",
            "p    7\n",
            "dtype: int64\n"
          ]
        }
      ],
      "source": [
        "\n",
        "import pandas as pd\n",
        "import numpy as np\n",
        "\n",
        "arr=np.array([1,3,9,7])\n",
        "\n",
        "s=pd.Series(arr,index=[\"x\",\"y\",\"z\",\"p\"])\n",
        "\n",
        "df=pd.DataFrame(arr)\n",
        "print(df)\n",
        "print(type(df))\n",
        "\n",
        "\n",
        "\n",
        "print(s)"
      ]
    },
    {
      "cell_type": "code",
      "source": [],
      "metadata": {
        "colab": {
          "base_uri": "https://localhost:8080/",
          "height": 130
        },
        "id": "tBehFdD9yh7N",
        "outputId": "544ec96d-2b4b-4e12-ed5a-13e47b95f14e"
      },
      "execution_count": null,
      "outputs": [
        {
          "output_type": "error",
          "ename": "IndentationError",
          "evalue": "ignored",
          "traceback": [
            "\u001b[0;36m  File \u001b[0;32m\"<tokenize>\"\u001b[0;36m, line \u001b[0;32m5\u001b[0m\n\u001b[0;31m    for j in range(len(nums)):\u001b[0m\n\u001b[0m    ^\u001b[0m\n\u001b[0;31mIndentationError\u001b[0m\u001b[0;31m:\u001b[0m unindent does not match any outer indentation level\n"
          ]
        }
      ]
    },
    {
      "cell_type": "code",
      "source": [
        "class Solution:\n",
        " def twoSum( nums, target):\n",
        "  for i in range(len(nums)):\n",
        "    x=nums[i]\n",
        "    for j in range(len(nums)):\n",
        "             if nums[i]+nums[j]==target:\n",
        "              return i,j\n",
        "  return []\n",
        "\n",
        "\n",
        "\n",
        "list=[2,8,11,7,55]\n",
        "Solution.twoSum(list,15)\n"
      ],
      "metadata": {
        "colab": {
          "base_uri": "https://localhost:8080/"
        },
        "id": "mZ5suQbj4-K9",
        "outputId": "bb82daef-6d04-4698-a9f3-db438f473ef2"
      },
      "execution_count": 29,
      "outputs": [
        {
          "output_type": "execute_result",
          "data": {
            "text/plain": [
              "(1, 3)"
            ]
          },
          "metadata": {},
          "execution_count": 29
        }
      ]
    },
    {
      "cell_type": "code",
      "source": [
        "class Solution:\n",
        "    def twoSum(self,nums, target):\n",
        "\n",
        "        for i in range(len(nums)):\n",
        "            x=nums[i]\n",
        "            for j in range(i+1,len(nums)):\n",
        "                 if x+nums[j]==target:\n",
        "                  return[i,j]\n",
        "\n",
        "        return []  # No solution found\n",
        "list1=[2,7,11,5,55]\n",
        "list2=[3,2,4]\n",
        "list3=[3,3]\n",
        "print(Solution.twoSum(\"k\",list1,9))\n",
        "print(Solution.twoSum(\"l\",list2,6))\n",
        "\n",
        "print(Solution.twoSum(\"m\",list3,6))\n",
        "\n"
      ],
      "metadata": {
        "colab": {
          "base_uri": "https://localhost:8080/"
        },
        "id": "w_anXlcK_CUh",
        "outputId": "1012a77b-60ba-4a7e-ffb7-96b529e78e29"
      },
      "execution_count": 72,
      "outputs": [
        {
          "output_type": "stream",
          "name": "stdout",
          "text": [
            "[0, 1]\n",
            "[1, 2]\n",
            "[0, 1]\n"
          ]
        }
      ]
    }
  ]
}