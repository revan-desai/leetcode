{
  "nbformat": 4,
  "nbformat_minor": 0,
  "metadata": {
    "colab": {
      "provenance": [],
      "authorship_tag": "ABX9TyPcaWeHTPlywH66AOb8vdGT",
      "include_colab_link": true
    },
    "kernelspec": {
      "name": "python3",
      "display_name": "Python 3"
    },
    "language_info": {
      "name": "python"
    }
  },
  "cells": [
    {
      "cell_type": "markdown",
      "metadata": {
        "id": "view-in-github",
        "colab_type": "text"
      },
      "source": [
        "<a href=\"https://colab.research.google.com/github/revan-desai/leetcode/blob/main/add_two_numbers_leetcode1.ipynb\" target=\"_parent\"><img src=\"https://colab.research.google.com/assets/colab-badge.svg\" alt=\"Open In Colab\"/></a>"
      ]
    },
    {
      "cell_type": "code",
      "source": [
        "def add_list(l1:list,l2:list)->list:\n",
        "  sum=int(\"\".join(map(str,l1)))+int(\"\".join(map(str,l2)))\n",
        "  return [int(x) for x in str(sum)]\n",
        "l1 = [5,9,6,8,7,1,2]\n",
        "l2 = [9,8,3,4]\n",
        "add_list(l1,l2)"
      ],
      "metadata": {
        "colab": {
          "base_uri": "https://localhost:8080/"
        },
        "id": "iJGMGLQW1zco",
        "outputId": "82e6f7e2-8a1a-48c5-eabd-56b9f0ff08da"
      },
      "execution_count": null,
      "outputs": [
        {
          "output_type": "execute_result",
          "data": {
            "text/plain": [
              "[5, 9, 7, 8, 5, 4, 6]"
            ]
          },
          "metadata": {},
          "execution_count": 3
        }
      ]
    },
    {
      "cell_type": "code",
      "source": [
        "l1 = [5,9,6,8,7,1,2]\n",
        "l2 = [9,8,3,4]\n",
        "l3=[]\n",
        "res=0\n",
        "l10=l20=[]\n",
        "max1=max(len(l2),len(l1))\n",
        "min1=min(len(l2),len(l1))\n",
        "print(max1)\n",
        "for j in range(max1-min1):\n",
        "  if len(l1)<len(l2):\n",
        "    l10.append(0)\n",
        "    if j==max1-min1-1:\n",
        "      l1=l10+l1\n",
        "  else:\n",
        "    l20.append(0)\n",
        "    if j==max1-min1-1:\n",
        "      l2=l20+l2\n",
        "\n",
        "print(l2,l1)\n",
        "\n",
        "for i in range(max1):\n",
        "        sum=l1[max1-1-i]+l2[max1-1-i]+res\n",
        "        if sum<=9:\n",
        "            l3.append(sum)\n",
        "            res=0\n",
        "        else:\n",
        "            res=sum//10\n",
        "            l3.append(sum%10)\n",
        "        if i==len(l2)-1 and res!=0:\n",
        "             l3.append(res)\n",
        "l3[::-1]               # for leet code answer remove[::-1]\n"
      ],
      "metadata": {
        "id": "eeY3HJq0l0AH",
        "colab": {
          "base_uri": "https://localhost:8080/"
        },
        "outputId": "d6e14caa-62bc-47d4-ca07-b53defdbd6e1"
      },
      "execution_count": null,
      "outputs": [
        {
          "output_type": "stream",
          "name": "stdout",
          "text": [
            "7\n",
            "[0, 0, 0, 9, 8, 3, 4] [5, 9, 6, 8, 7, 1, 2]\n"
          ]
        },
        {
          "output_type": "execute_result",
          "data": {
            "text/plain": [
              "[5, 9, 7, 8, 5, 4, 6]"
            ]
          },
          "metadata": {},
          "execution_count": 4
        }
      ]
    }
  ]
}