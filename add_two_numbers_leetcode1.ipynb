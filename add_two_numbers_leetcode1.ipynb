{
  "nbformat": 4,
  "nbformat_minor": 0,
  "metadata": {
    "colab": {
      "provenance": [],
      "authorship_tag": "ABX9TyOgYwFl3AmHYtJfd6EgkaCd",
      "include_colab_link": true
    },
    "kernelspec": {
      "name": "python3",
      "display_name": "Python 3"
    },
    "language_info": {
      "name": "python"
    }
  },
  "cells": [
    {
      "cell_type": "markdown",
      "metadata": {
        "id": "view-in-github",
        "colab_type": "text"
      },
      "source": [
        "<a href=\"https://colab.research.google.com/github/revan-desai/leetcode/blob/main/add_two_numbers_leetcode1.ipynb\" target=\"_parent\"><img src=\"https://colab.research.google.com/assets/colab-badge.svg\" alt=\"Open In Colab\"/></a>"
      ]
    },
    {
      "cell_type": "code",
      "source": [
        "l1 = [5,9,6,8,7,1,2]\n",
        "l2 = [9,8,3,4]\n",
        "l3=[]\n",
        "res=0\n",
        "l10=l20=[]\n",
        "max1=max(len(l2),len(l1))\n",
        "min1=min(len(l2),len(l1))\n",
        "print(max1)\n",
        "for j in range(max1-min1):\n",
        "  if len(l1)<len(l2):\n",
        "    l10.append(0)\n",
        "    if j==max1-min1-1:\n",
        "      l1=l10+l1\n",
        "  else:\n",
        "    l20.append(0)\n",
        "    if j==max1-min1-1:\n",
        "      l2=l20+l2\n",
        "\n",
        "print(l2,l1)\n",
        "\n",
        "for i in range(max1):\n",
        "        sum=l1[max1-1-i]+l2[max1-1-i]+res\n",
        "        if sum<=9:\n",
        "            l3.append(sum)\n",
        "            res=0\n",
        "        else:\n",
        "            res=sum//10\n",
        "            l3.append(sum%10)\n",
        "        if i==len(l2)-1 and res!=0:\n",
        "             l3.append(res)\n",
        "l3[::-1]               # for leet code answer remove[::-1]\n"
      ],
      "metadata": {
        "id": "eeY3HJq0l0AH"
      },
      "execution_count": null,
      "outputs": []
    }
  ]
}