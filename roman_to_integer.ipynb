{
  "nbformat": 4,
  "nbformat_minor": 0,
  "metadata": {
    "colab": {
      "provenance": [],
      "authorship_tag": "ABX9TyOF5y2TzuQdzw5wXlidRxKG",
      "include_colab_link": true
    },
    "kernelspec": {
      "name": "python3",
      "display_name": "Python 3"
    },
    "language_info": {
      "name": "python"
    }
  },
  "cells": [
    {
      "cell_type": "markdown",
      "metadata": {
        "id": "view-in-github",
        "colab_type": "text"
      },
      "source": [
        "<a href=\"https://colab.research.google.com/github/revan-desai/leetcode/blob/main/roman_to_integer.ipynb\" target=\"_parent\"><img src=\"https://colab.research.google.com/assets/colab-badge.svg\" alt=\"Open In Colab\"/></a>"
      ]
    },
    {
      "cell_type": "code",
      "source": [
        "\n",
        "class Solution:\n",
        "    def romanToInt(self, s):\n",
        "        m={\n",
        "           'I': 1,\n",
        "            'V': 5,\n",
        "            'X': 10,\n",
        "            'L': 50,\n",
        "            'C': 100,\n",
        "            'D': 500,\n",
        "            'M': 1000\n",
        "        }\n",
        "        ans=0\n",
        "        for i in range(len(s)):\n",
        "          if i<len(s)-1 and m[s[i]]<m[s[i+1]]:\n",
        "              ans=ans-m[s[i]]\n",
        "\n",
        "          else:\n",
        "              ans=ans+m[s[i]]\n",
        "        return ans\n",
        "print(Solution.romanToInt(\"k\",\"III\"))\n",
        "print(Solution.romanToInt(\"k\",\"LVIII\"))\n",
        "print(Solution.romanToInt(\"k\",\"MCMXCIV\"))"
      ],
      "metadata": {
        "colab": {
          "base_uri": "https://localhost:8080/"
        },
        "id": "g26WPcoJO1wY",
        "outputId": "4fbb0efd-b4e0-499e-d743-7641872ecd05"
      },
      "execution_count": null,
      "outputs": [
        {
          "output_type": "stream",
          "name": "stdout",
          "text": [
            "3\n",
            "58\n",
            "1994\n"
          ]
        }
      ]
    }
  ]
}