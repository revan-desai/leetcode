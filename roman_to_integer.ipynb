{
  "nbformat": 4,
  "nbformat_minor": 0,
  "metadata": {
    "colab": {
      "provenance": [],
      "authorship_tag": "ABX9TyO3LkJ0+nPtZRM5x5PxLOmi",
      "include_colab_link": true
    },
    "kernelspec": {
      "name": "python3",
      "display_name": "Python 3"
    },
    "language_info": {
      "name": "python"
    }
  },
  "cells": [
    {
      "cell_type": "markdown",
      "metadata": {
        "id": "view-in-github",
        "colab_type": "text"
      },
      "source": [
        "<a href=\"https://colab.research.google.com/github/revan-desai/leetcode/blob/main/roman_to_integer.ipynb\" target=\"_parent\"><img src=\"https://colab.research.google.com/assets/colab-badge.svg\" alt=\"Open In Colab\"/></a>"
      ]
    },
    {
      "cell_type": "code",
      "execution_count": 33,
      "metadata": {
        "colab": {
          "base_uri": "https://localhost:8080/"
        },
        "id": "b7Nq_76SSN0-",
        "outputId": "92e4bc70-4f1b-4ff7-ea88-52e06e06647d"
      },
      "outputs": [
        {
          "output_type": "stream",
          "name": "stdout",
          "text": [
            "3\n",
            "58\n",
            "1994\n"
          ]
        }
      ],
      "source": [
        "class Solution:\n",
        " def romanToInt(s):\n",
        "  res=0\n",
        "  m ={\n",
        "      'I':1,\n",
        "      'V':5,\n",
        "      'X':10,\n",
        "      'L':50,\n",
        "      'C':100,\n",
        "      'D':500,\n",
        "      'M':1000\n",
        "      }\n",
        "  for i in range(len(s)):\n",
        "     if i<len(s)-1 and m[s[i]]<m[s[i+1]]:\n",
        "        res=res-m[s[i]]\n",
        "     else:\n",
        "         res=res+m[s[i]]\n",
        "  return res\n",
        "\n",
        "\n",
        "\n",
        "print(Solution.romanToInt(\"III\"))\n",
        "print(Solution.romanToInt(\"LVIII\"))\n",
        "print(Solution.romanToInt(\"MCMXCIV\"))"
      ]
    }
  ]
}